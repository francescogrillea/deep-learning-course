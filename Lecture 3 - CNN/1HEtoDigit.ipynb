{
 "cells": [
  {
   "cell_type": "markdown",
   "source": [
    "# Exercise 2\n",
    "\n",
    "Train an MLP network that receives a one-hot encoded class from the MNIST dataset as input and generates a 28x28 grayscale image corresponding to that digit"
   ],
   "metadata": {
    "collapsed": false
   }
  },
  {
   "cell_type": "code",
   "outputs": [],
   "source": [
    "import torch\n",
    "import torchvision\n",
    "from tqdm import tqdm\n",
    "import matplotlib.pyplot as plt"
   ],
   "metadata": {
    "collapsed": false,
    "ExecuteTime": {
     "end_time": "2024-02-21T10:38:37.585781Z",
     "start_time": "2024-02-21T10:38:36.452014100Z"
    }
   },
   "execution_count": 6
  },
  {
   "cell_type": "code",
   "execution_count": 2,
   "metadata": {
    "ExecuteTime": {
     "end_time": "2024-02-21T10:35:31.738024600Z",
     "start_time": "2024-02-21T10:35:31.642377Z"
    }
   },
   "outputs": [],
   "source": [
    "train_mnist = torchvision.datasets.MNIST(\n",
    "    \"./data\",\n",
    "    train=True,\n",
    "    download=True,\n",
    "    transform=torchvision.transforms.Compose([\n",
    "        torchvision.transforms.ToTensor(),\n",
    "        torchvision.transforms.Normalize((0.1307,), (0.3081,))\n",
    "    ])\n",
    ")\n",
    "\n",
    "test_mnist = torchvision.datasets.MNIST(\n",
    "    \"./data\",\n",
    "    train=False,\n",
    "    download=True,\n",
    "    transform=torchvision.transforms.Compose([\n",
    "        torchvision.transforms.ToTensor(),\n",
    "        torchvision.transforms.Normalize((0.1307,), (0.3081,))\n",
    "    ])\n",
    ")\n"
   ]
  },
  {
   "cell_type": "code",
   "execution_count": 3,
   "metadata": {
    "ExecuteTime": {
     "end_time": "2024-02-21T10:35:38.529006300Z",
     "start_time": "2024-02-21T10:35:38.506058800Z"
    }
   },
   "outputs": [],
   "source": [
    "class OneHotNumbers(torch.utils.data.Dataset):\n",
    "    def __init__(self, dataset):\n",
    "        super().__init__()\n",
    "        self.dataset = dataset\n",
    "\n",
    "    def __len__(self):\n",
    "        return len(self.dataset)\n",
    "\n",
    "    def __getitem__(self, idx):\n",
    "        data, target = self.dataset[idx]\n",
    "        one_hot = torch.zeros(10)\n",
    "        one_hot[target] = 1\n",
    "\n",
    "        return data, one_hot"
   ]
  },
  {
   "cell_type": "code",
   "execution_count": 4,
   "metadata": {
    "ExecuteTime": {
     "end_time": "2024-02-21T10:35:40.026853900Z",
     "start_time": "2024-02-21T10:35:40.013437300Z"
    }
   },
   "outputs": [],
   "source": [
    "class GenerativeModel(torch.nn.Module):\n",
    "    def __init__(self):\n",
    "        super().__init__()\n",
    "\n",
    "        self.model = torch.nn.Sequential(\n",
    "            torch.nn.Linear(10, 300),\n",
    "            torch.nn.LeakyReLU(),\n",
    "            torch.nn.Linear(300, 300),\n",
    "            torch.nn.LeakyReLU(),\n",
    "            torch.nn.Linear(300, 28*28),\n",
    "        )\n",
    "    \n",
    "    def forward(self, x):\n",
    "        return self.model(x).reshape(-1, 1, 28, 28)"
   ]
  },
  {
   "cell_type": "markdown",
   "source": [
    "## Train the Model"
   ],
   "metadata": {
    "collapsed": false
   }
  },
  {
   "cell_type": "code",
   "execution_count": 5,
   "metadata": {
    "ExecuteTime": {
     "end_time": "2024-02-21T10:38:36.448686700Z",
     "start_time": "2024-02-21T10:36:14.130474700Z"
    }
   },
   "outputs": [
    {
     "name": "stderr",
     "output_type": "stream",
     "text": [
      "Loss: 0.583: 100%|██████████| 1875/1875 [00:46<00:00, 40.50it/s]\n",
      "Loss: 0.498: 100%|██████████| 1875/1875 [00:47<00:00, 39.61it/s]\n",
      "Loss: 0.597: 100%|██████████| 1875/1875 [00:48<00:00, 38.54it/s]\n"
     ]
    }
   ],
   "source": [
    "ds = OneHotNumbers(train_mnist)\n",
    "dl = torch.utils.data.DataLoader(ds, batch_size=32, shuffle=True)\n",
    "model = GenerativeModel()\n",
    "optimizer = torch.optim.Adam(model.parameters(), lr=1e-3)\n",
    "loss_fn = torch.nn.MSELoss()\n",
    "\n",
    "for epoch in range(3):\n",
    "    bar = tqdm(dl)\n",
    "    for target, oh in bar:\n",
    "        pred = model(oh)\n",
    "\n",
    "        loss = loss_fn(pred, target)\n",
    "        \n",
    "        optimizer.zero_grad()\n",
    "        loss.backward()\n",
    "        optimizer.step()\n",
    "        \n",
    "        bar.set_description(f\"Loss: {loss.item():.3f}\")"
   ]
  },
  {
   "cell_type": "markdown",
   "source": [
    "## Test the Model"
   ],
   "metadata": {
    "collapsed": false
   }
  },
  {
   "cell_type": "code",
   "execution_count": 7,
   "metadata": {
    "ExecuteTime": {
     "end_time": "2024-02-21T10:38:47.491756600Z",
     "start_time": "2024-02-21T10:38:47.299076Z"
    }
   },
   "outputs": [
    {
     "data": {
      "text/plain": "<Figure size 1000x400 with 10 Axes>",
      "image/png": "[encoded data removed]"
     },
     "metadata": {},
     "output_type": "display_data"
    }
   ],
   "source": [
    "%matplotlib inline\n",
    "\n",
    "inputs = torch.eye(10)\n",
    "pred = model(inputs)\n",
    "\n",
    "fig, axes = plt.subplots(2, 5, figsize=(10, 4))\n",
    "\n",
    "for i in range(10):\n",
    "    axes[i//5, i%5].imshow(pred[i, 0].detach().numpy(), cmap=\"gray\")\n",
    "    axes[i//5, i%5].axis(\"off\")\n",
    "\n",
    "plt.show()"
   ]
  },
  {
   "cell_type": "code",
   "execution_count": 24,
   "metadata": {},
   "outputs": [
    {
     "data": {
      "image/png": "[encoded data removed]",
      "text/plain": [
       "<Figure size 2000x400 with 11 Axes>"
      ]
     },
     "metadata": {},
     "output_type": "display_data"
    }
   ],
   "source": [
    "import matplotlib.pyplot as plt\n",
    "%matplotlib inline\n",
    "\n",
    "morph_start = 1\n",
    "morph_end = 4\n",
    "\n",
    "start_oh = torch.eye(10)[morph_start]\n",
    "end_oh = torch.eye(10)[morph_end]\n",
    "\n",
    "morphing = [(1-i/10)*start_oh + (i/10)*end_oh for i in range(11)]\n",
    "morphing = torch.stack(morphing)\n",
    "\n",
    "pred = model(morphing)\n",
    "\n",
    "fig, axes = plt.subplots(1, 11, figsize=(20, 4))\n",
    "\n",
    "for i in range(11):\n",
    "    axes[i].imshow(pred[i, 0].detach().numpy(), cmap=\"gray\")\n",
    "    axes[i].axis(\"off\")"
   ]
  }
 ],
 "metadata": {
  "kernelspec": {
   "display_name": ".venv",
   "language": "python",
   "name": "python3"
  },
  "language_info": {
   "codemirror_mode": {
    "name": "ipython",
    "version": 3
   },
   "file_extension": ".py",
   "mimetype": "text/x-python",
   "name": "python",
   "nbconvert_exporter": "python",
   "pygments_lexer": "ipython3",
   "version": "3.11.5"
  },
  "orig_nbformat": 4
 },
 "nbformat": 4,
 "nbformat_minor": 2
}
