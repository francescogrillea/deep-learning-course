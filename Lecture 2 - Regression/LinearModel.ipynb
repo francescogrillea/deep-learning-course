{
 "cells": [
  {
   "cell_type": "markdown",
   "source": [
    "# Exercise 1\n",
    "\n",
    "Write the `PointsDataset` class that implements the `torch.utils.data.Dataset` interface:\n",
    "* Reads a txt file in which each line represents a bidimensional data point, with each dimension separated by a space.\n",
    "* Saves the content of the file in a data structure of your choice\n",
    "* The `__len__(self)` method should return the number of data points\n",
    "* The `__getitem__(self, i)` method should return the i-th data point as a tuple.\n",
    "\n",
    "Write the `LineModule` class that implements the `torch.nn.Module` interface implementing the function $f(x) = wx$\n",
    "* `LineModule` has 1 parameter $w$\n",
    "* The `forward(self, x)` method should return $wx$\n",
    "\n",
    "\n",
    "Write a complete python script that trains LineModule to approximate the data in `dataset1.txt`\n",
    "* Use the SGD optimizer from `torch.optim`\n",
    "* Use the MSELoss from `torch.nn`\n",
    "* Use a batch_size of 8\n",
    "* Use a learning rate of 0.001\n",
    "* Train for 1000 epochs\n",
    "\n"
   ],
   "metadata": {
    "collapsed": false
   }
  },
  {
   "cell_type": "code",
   "outputs": [],
   "source": [
    "import numpy as np\n",
    "import torch\n",
    "import matplotlib.pyplot as plt\n",
    "from tqdm import trange"
   ],
   "metadata": {
    "collapsed": false,
    "ExecuteTime": {
     "end_time": "2024-02-20T14:48:10.487243400Z",
     "start_time": "2024-02-20T14:48:09.203527900Z"
    }
   },
   "execution_count": 1
  },
  {
   "cell_type": "code",
   "execution_count": 14,
   "metadata": {
    "ExecuteTime": {
     "end_time": "2024-02-20T14:53:07.032223100Z",
     "start_time": "2024-02-20T14:53:07.016907500Z"
    }
   },
   "outputs": [],
   "source": [
    "class PointDataset(torch.utils.data.Dataset):\n",
    "    def __init__(self, filename):\n",
    "        self.data = []\n",
    "        \n",
    "        with open(filename, 'r') as f:\n",
    "            for line in f:\n",
    "                x, y = line.split(\" \")\n",
    "                x, y = float(x), float(y)\n",
    "                self.data.append((x, y))\n",
    "    \n",
    "    def __len__(self):\n",
    "        return len(self.data)\n",
    "    \n",
    "    def __getitem__(self, idx):\n",
    "        return self.data[idx]\n",
    "    \n",
    "    def plot(self, show=True):\n",
    "        x_values, y_values = zip(*self.data)\n",
    "        plt.scatter(x_values, y_values)\n",
    "        if show:\n",
    "            plt.show()"
   ]
  },
  {
   "cell_type": "code",
   "execution_count": 45,
   "metadata": {
    "ExecuteTime": {
     "end_time": "2024-02-20T15:01:36.270014300Z",
     "start_time": "2024-02-20T15:01:36.246895Z"
    }
   },
   "outputs": [],
   "source": [
    "class LineModule(torch.nn.Module):\n",
    "    def __init__(self):\n",
    "        super().__init__()\n",
    "        self.w = torch.nn.Parameter(torch.rand(1))\n",
    "    \n",
    "    def forward(self, x):\n",
    "        return self.w * x\n",
    "    \n",
    "    def plot(self, x, show=True):\n",
    "        y_points = self.forward(x)\n",
    "        plt.plot(x.detach().numpy(), y_points.detach().numpy(), color=\"red\")\n",
    "        if show:\n",
    "            plt.show()"
   ]
  },
  {
   "cell_type": "code",
   "execution_count": 48,
   "metadata": {
    "ExecuteTime": {
     "end_time": "2024-02-20T15:01:45.481082100Z",
     "start_time": "2024-02-20T15:01:42.151480200Z"
    }
   },
   "outputs": [
    {
     "name": "stderr",
     "output_type": "stream",
     "text": [
      "100%|██████████| 1000/1000 [00:03<00:00, 301.68it/s]\n"
     ]
    }
   ],
   "source": [
    "ds = PointDataset(\"dataset1.txt\")\n",
    "model = LineModule()\n",
    "dl = torch.utils.data.DataLoader(ds, batch_size=8)\n",
    "\n",
    "optimizer = torch.optim.SGD(model.parameters(), lr=0.001)\n",
    "loss_fn = torch.nn.MSELoss()\n",
    "\n",
    "loss_history = list()\n",
    "\n",
    "for epoch in trange(1000):\n",
    "    for i, batch in enumerate(dl):\n",
    "        x, y = batch\n",
    "        y_pred = model(x)\n",
    "        loss = loss_fn(y_pred, y)\n",
    "        optimizer.zero_grad()\n",
    "        loss.backward()\n",
    "        optimizer.step()\n",
    "        \n",
    "        if i % 5 == 0:\n",
    "            loss_history.append(loss.item())\n",
    "\n",
    "\n",
    "# plt.plot(loss_history)\n",
    "# plt.title(\"Loss History\")\n",
    "# plt.show()"
   ]
  },
  {
   "cell_type": "code",
   "execution_count": 50,
   "metadata": {
    "ExecuteTime": {
     "end_time": "2024-02-20T15:21:38.328427600Z",
     "start_time": "2024-02-20T15:21:38.225961400Z"
    }
   },
   "outputs": [
    {
     "data": {
      "text/plain": "<Figure size 640x480 with 1 Axes>",
      "image/png": "[encoded data removed]"
     },
     "metadata": {},
     "output_type": "display_data"
    }
   ],
   "source": [
    "x_range = torch.linspace(-10, 10, 100)\n",
    "ds.plot(show=False)\n",
    "model.plot(x_range, show=False)\n",
    "plt.show()"
   ]
  }
 ],
 "metadata": {
  "kernelspec": {
   "display_name": "Python 3",
   "language": "python",
   "name": "python3"
  },
  "language_info": {
   "codemirror_mode": {
    "name": "ipython",
    "version": 3
   },
   "file_extension": ".py",
   "mimetype": "text/x-python",
   "name": "python",
   "nbconvert_exporter": "python",
   "pygments_lexer": "ipython3",
   "version": "3.11.5"
  },
  "orig_nbformat": 4
 },
 "nbformat": 4,
 "nbformat_minor": 2
}
